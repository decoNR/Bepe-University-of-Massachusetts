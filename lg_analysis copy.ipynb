{
 "cells": [
  {
   "cell_type": "code",
   "execution_count": 1,
   "metadata": {},
   "outputs": [
    {
     "name": "stdout",
     "output_type": "stream",
     "text": [
      "['0000', '0001', '0010', '0011', '0100', '0101', '0110', '0111', '1000', '1001', '1010', '1011', '1100', '1101', '1110', '1111']\n",
      "16\n",
      "True\n",
      "0000 -> 0000\n",
      "0001 -> 0100\n",
      "0010 -> 0010\n",
      "0011 -> 0011\n",
      "0100 -> 0001\n",
      "0101 -> 0101\n",
      "0110 -> 1001\n",
      "0111 -> 1101\n",
      "1000 -> 1000\n",
      "1001 -> 0110\n",
      "1010 -> 1010\n",
      "1011 -> 1011\n",
      "1100 -> 1100\n",
      "1101 -> 0111\n",
      "1110 -> 1110\n",
      "1111 -> 1111\n"
     ]
    }
   ],
   "source": [
    "# This cell does the mapping dictionary\n",
    "\n",
    "set01 = [\"0\",\"1\"]\n",
    "complete = []\n",
    "for item in set01:  \n",
    "    for ite in set01:       \n",
    "        for it in set01:     \n",
    "            for i in set01:\n",
    "                word = \"\"\n",
    "                word += item + ite + it + i\n",
    "                complete.append(word)\n",
    "\n",
    "print(complete)\n",
    "print(len(complete))\n",
    "\n",
    "def swap(bitstring):\n",
    "    l = len(bitstring)\n",
    "    beg = \"\"\n",
    "    end = \"\"\n",
    "    for i in range(l//2):\n",
    "        end += bitstring[i]\n",
    "    for i in range(l//2,l):\n",
    "        beg += bitstring[i]\n",
    "\n",
    "    return beg + end\n",
    "\n",
    "mapping = {}\n",
    "    \n",
    "for i in range(len(complete)):\n",
    "    # for a in set01:  \n",
    "    #     for b in set01: \n",
    "    #         if complete[i] == \"01\" + a + b:\n",
    "    #             mapping[\"01\"+ a + b] = a + b + \"01\"\n",
    "    \n",
    "    if complete[i][0] == \"0\" and complete[i][1] == \"1\":\n",
    "        mapping[complete[i]] = swap(complete[i])\n",
    "    elif complete[i][2] == \"0\" and complete[i][3] == \"1\":\n",
    "        mapping[complete[i]] = swap(complete[i])\n",
    "\n",
    "    else:\n",
    "        mapping[complete[i]] = complete[i]\n",
    "\n",
    "print(len(mapping) == len(complete))\n",
    "\n",
    "for item in mapping: \n",
    "    print(item, \"->\", mapping[item])\n",
    "\n"
   ]
  },
  {
   "cell_type": "code",
   "execution_count": 6,
   "metadata": {},
   "outputs": [],
   "source": [
    "# If this cell does not print anything the mapping is unitary\n",
    "# valid for mappings that are permutations of the computational basis\n",
    "\n",
    "keys = []\n",
    "values = []\n",
    "\n",
    "for item in mapping:\n",
    "    keys.append(item)\n",
    "    values.append(mapping[item])\n",
    "    \n",
    "keys = sorted(keys)\n",
    "values = sorted(values)\n",
    "\n",
    "for i in range(len(keys)):\n",
    "    if values[i] != keys[i]:\n",
    "        print(\"wrong\")\n",
    "\n",
    "for item in keys:\n",
    "    if item not in values:\n",
    "        print(item)"
   ]
  }
 ],
 "metadata": {
  "kernelspec": {
   "display_name": "Python 3",
   "language": "python",
   "name": "python3"
  },
  "language_info": {
   "codemirror_mode": {
    "name": "ipython",
    "version": 3
   },
   "file_extension": ".py",
   "mimetype": "text/x-python",
   "name": "python",
   "nbconvert_exporter": "python",
   "pygments_lexer": "ipython3",
   "version": "3.10.12"
  }
 },
 "nbformat": 4,
 "nbformat_minor": 2
}
