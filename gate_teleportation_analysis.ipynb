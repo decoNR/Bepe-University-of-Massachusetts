{
 "cells": [
  {
   "cell_type": "code",
   "execution_count": 1,
   "metadata": {},
   "outputs": [
    {
     "ename": "ModuleNotFoundError",
     "evalue": "No module named 'qiskit'",
     "output_type": "error",
     "traceback": [
      "\u001b[0;31m---------------------------------------------------------------------------\u001b[0m",
      "\u001b[0;31mModuleNotFoundError\u001b[0m                       Traceback (most recent call last)",
      "Cell \u001b[0;32mIn[1], line 1\u001b[0m\n\u001b[0;32m----> 1\u001b[0m \u001b[38;5;28;01mfrom\u001b[39;00m \u001b[38;5;21;01mqiskit\u001b[39;00m \u001b[38;5;28;01mimport\u001b[39;00m \u001b[38;5;241m*\u001b[39m\n\u001b[1;32m      2\u001b[0m \u001b[38;5;28;01mimport\u001b[39;00m \u001b[38;5;21;01mnumpy\u001b[39;00m \u001b[38;5;28;01mas\u001b[39;00m \u001b[38;5;21;01mnp\u001b[39;00m\n",
      "\u001b[0;31mModuleNotFoundError\u001b[0m: No module named 'qiskit'"
     ]
    }
   ],
   "source": [
    "from qiskit import *\n",
    "import numpy as np"
   ]
  },
  {
   "cell_type": "code",
   "execution_count": null,
   "metadata": {},
   "outputs": [
    {
     "ename": "",
     "evalue": "",
     "output_type": "error",
     "traceback": [
      "\u001b[1;31mRunning cells with '/bin/python3' requires the ipykernel package.\n",
      "\u001b[1;31mRun the following command to install 'ipykernel' into the Python environment. \n",
      "\u001b[1;31mCommand: '/bin/python3 -m pip install ipykernel -U --user --force-reinstall'"
     ]
    }
   ],
   "source": [
    "def state_print(circuit):\n",
    "    simulator = Aer.get_backend('statevector_simulator')\n",
    "    result = execute(circuit , simulator).result()\n",
    "    statevector = result.get_statevector()\n",
    "    print(statevector.to_dict())\n",
    "    print(\"\\n\")\n",
    "    return statevector.to_dict()"
   ]
  },
  {
   "cell_type": "code",
   "execution_count": null,
   "metadata": {},
   "outputs": [
    {
     "ename": "",
     "evalue": "",
     "output_type": "error",
     "traceback": [
      "\u001b[1;31mRunning cells with '/bin/python3' requires the ipykernel package.\n",
      "\u001b[1;31mRun the following command to install 'ipykernel' into the Python environment. \n",
      "\u001b[1;31mCommand: '/bin/python3 -m pip install ipykernel -U --user --force-reinstall'"
     ]
    }
   ],
   "source": [
    "def initialize_cx(alpha, beta, gamma, delta):\n",
    "    qr = QuantumRegister(6)\n",
    "    cr = ClassicalRegister(6)\n",
    "    circuit = QuantumCircuit(qr,cr)\n",
    "    # circuit = circuit.reverse_bits()\n",
    "\n",
    "    initial_state = [alpha, beta]\n",
    "    circuit.initialize(initial_state, 0)\n",
    "    initial_state = [gamma, delta]\n",
    "    circuit.initialize(initial_state, 5)\n",
    "\n",
    "    circuit.barrier()\n",
    "    # state_print(circuit)\n",
    "\n",
    "    circuit.h(1)\n",
    "    circuit.h(3)\n",
    "    circuit.barrier()\n",
    "    # state_print(circuit)\n",
    "\n",
    "    circuit.cx(1,2)\n",
    "    circuit.cx(3,4)\n",
    "    circuit.barrier()\n",
    "    # state_print(circuit)\n",
    "\n",
    "    circuit.cx(3,2)\n",
    "    circuit.barrier()\n",
    "    # state_print(circuit)\n",
    "\n",
    "    circuit.cx(0,1)\n",
    "    circuit.cx(4,5)\n",
    "    circuit.barrier()\n",
    "    # state_print(circuit)\n",
    "\n",
    "    circuit.h(0)\n",
    "    circuit.h(4)\n",
    "    circuit.barrier()\n",
    "    vector = state_print(circuit)\n",
    "\n",
    "    circuit.measure(qr[0], cr[0])\n",
    "    circuit.measure(qr[1], cr[1])\n",
    "    circuit.measure(qr[4], cr[4])\n",
    "    circuit.measure(qr[5], cr[5])\n",
    "    circuit.barrier()\n",
    "    # state_print(circuit)\n",
    "\n",
    "    circuit.cz(0,[2,3])\n",
    "    circuit.cx(5,[3,2])\n",
    "    circuit.cx(1,2)\n",
    "    circuit.cz(4,3)\n",
    "\n",
    "    circuit.measure(qr[2], cr[2])\n",
    "    circuit.measure(qr[3], cr[3])\n",
    "\n",
    "    return circuit, vector\n"
   ]
  },
  {
   "cell_type": "code",
   "execution_count": null,
   "metadata": {},
   "outputs": [
    {
     "ename": "",
     "evalue": "",
     "output_type": "error",
     "traceback": [
      "\u001b[1;31mRunning cells with '/bin/python3' requires the ipykernel package.\n",
      "\u001b[1;31mRun the following command to install 'ipykernel' into the Python environment. \n",
      "\u001b[1;31mCommand: '/bin/python3 -m pip install ipykernel -U --user --force-reinstall'"
     ]
    }
   ],
   "source": [
    "alpha = 1 #1/np.sqrt(2) #0.6  \n",
    "beta = 0 #1/np.sqrt(2) #0.8   \n",
    "gamma = 0 #1/np.sqrt(2) #np.sqrt(2)/np.sqrt(3)\n",
    "delta = 1 #1/np.sqrt(2) #1/np.sqrt(3)\n",
    "# circuit, vector = initialize_cx(alpha, beta, gamma, delta)\n",
    "\n",
    "values = [[1,0,1,0],[1,0,0,1],[0,1,1,0],[0,1,0,1]]\n",
    "dicts = []\n",
    "for value in values:\n",
    "    circuit, vector = initialize_cx(value[0],value[1],value[2],value[3])\n",
    "    dicts.append(vector)\n",
    "\n",
    "circuit.draw(output='mpl')\n",
    "# simulator = Aer.get_backend('qasm_simulator')\n",
    "# result = execute(circuit, backend=simulator).result()\n",
    "# from qiskit.tools.visualization import plot_histogram\n",
    "# plot_histogram(result.get_counts(circuit))"
   ]
  },
  {
   "cell_type": "code",
   "execution_count": null,
   "metadata": {},
   "outputs": [
    {
     "ename": "",
     "evalue": "",
     "output_type": "error",
     "traceback": [
      "\u001b[1;31mRunning cells with '/bin/python3' requires the ipykernel package.\n",
      "\u001b[1;31mRun the following command to install 'ipykernel' into the Python environment. \n",
      "\u001b[1;31mCommand: '/bin/python3 -m pip install ipykernel -U --user --force-reinstall'"
     ]
    }
   ],
   "source": [
    "d00 = dicts[0]\n",
    "d01 = dicts[1]\n",
    "d10 = dicts[2]\n",
    "d11 = dicts[3]\n",
    "\n",
    "def d_print(d):\n",
    "    print(len(d.keys()), sorted(d.keys()))\n",
    "\n",
    "def similar(d1, d2):\n",
    "    for key in sorted(d1.keys()):\n",
    "        if key in sorted(d2.keys()):\n",
    "            print(\"in\")\n",
    "\n",
    "ds = [d00, d01, d10, d11]\n",
    "for d1 in ds:\n",
    "    for d2 in ds:\n",
    "        if d1 != d2:\n",
    "            similar(d1,d2)\n",
    "\n",
    "d_print(d00)\n",
    "d_print(d01)\n",
    "d_print(d10)\n",
    "d_print(d11)"
   ]
  },
  {
   "cell_type": "code",
   "execution_count": null,
   "metadata": {},
   "outputs": [
    {
     "ename": "",
     "evalue": "",
     "output_type": "error",
     "traceback": [
      "\u001b[1;31mRunning cells with '/bin/python3' requires the ipykernel package.\n",
      "\u001b[1;31mRun the following command to install 'ipykernel' into the Python environment. \n",
      "\u001b[1;31mCommand: '/bin/python3 -m pip install ipykernel -U --user --force-reinstall'"
     ]
    }
   ],
   "source": [
    "def swap_analysis(d, str):\n",
    "    print(str)\n",
    "    newd = {}\n",
    "    for key in d:\n",
    "        s = \"\"\n",
    "        s += key[0] + key[1] + key[4] + key[5]\n",
    "        value = \"\"\n",
    "        value += key[2] + key[3]\n",
    "        newd[s] = value\n",
    "\n",
    "    i = 1\n",
    "    for key in newd:\n",
    "        print(key, \"->\", newd[key], \"|\" , end=\" \" )\n",
    "        if i%4 == 0:\n",
    "            print()\n",
    "        i += 1\n",
    "    print()\n",
    "\n",
    "swap_analysis(d00, \"d00: \\n\")\n",
    "swap_analysis(d01, \"d01: \\n\")\n",
    "swap_analysis(d10, \"d10: \\n\")\n",
    "swap_analysis(d11, \"d11: \\n\")"
   ]
  },
  {
   "cell_type": "code",
   "execution_count": null,
   "metadata": {},
   "outputs": [
    {
     "ename": "",
     "evalue": "",
     "output_type": "error",
     "traceback": [
      "\u001b[1;31mRunning cells with '/bin/python3' requires the ipykernel package.\n",
      "\u001b[1;31mRun the following command to install 'ipykernel' into the Python environment. \n",
      "\u001b[1;31mCommand: '/bin/python3 -m pip install ipykernel -U --user --force-reinstall'"
     ]
    }
   ],
   "source": [
    "def initialize_swap(alpha, beta, gamma, delta):\n",
    "    qr = QuantumRegister(6)\n",
    "    cr = ClassicalRegister(6)\n",
    "    circuit = QuantumCircuit(qr,cr)\n",
    "    # circuit = circuit.reverse_bits()\n",
    "\n",
    "    initial_state = [alpha, beta]\n",
    "    circuit.initialize(initial_state, 0)\n",
    "    initial_state = [gamma, delta]\n",
    "    circuit.initialize(initial_state, 5)\n",
    "\n",
    "    circuit.barrier()\n",
    "    # state_print(circuit)\n",
    "\n",
    "    circuit.h(1)\n",
    "    circuit.h(3)\n",
    "    circuit.barrier()\n",
    "    # state_print(circuit)\n",
    "\n",
    "    circuit.cx(1,2)\n",
    "    circuit.cx(3,4)\n",
    "    circuit.barrier()\n",
    "    # state_print(circuit)\n",
    "\n",
    "    circuit.swap(3,2)\n",
    "    circuit.barrier()\n",
    "    # state_print(circuit)\n",
    "\n",
    "    circuit.cx(0,1)\n",
    "    circuit.cx(4,5)\n",
    "    circuit.barrier()\n",
    "    # state_print(circuit)\n",
    "\n",
    "    circuit.h(0)\n",
    "    circuit.h(4)\n",
    "    circuit.barrier()\n",
    "    state_print(circuit)\n",
    "\n",
    "    circuit.measure(qr[0], cr[0])\n",
    "    circuit.measure(qr[1], cr[1])\n",
    "    circuit.measure(qr[4], cr[4])\n",
    "    circuit.measure(qr[5], cr[5])\n",
    "    circuit.barrier()\n",
    "    # state_print(circuit)\n",
    "\n",
    "    circuit.cz(0,[2,3])\n",
    "    circuit.cx(5,[3,2])\n",
    "    circuit.cx(1,2)\n",
    "    circuit.cz(4,3)\n",
    "    # state_print(circuit)\n",
    "\n",
    "    circuit.measure(qr[2], cr[2])\n",
    "    circuit.measure(qr[3], cr[3])\n",
    "    # state_print(circuit)\n",
    "\n",
    "    return circuit"
   ]
  },
  {
   "cell_type": "code",
   "execution_count": null,
   "metadata": {},
   "outputs": [
    {
     "ename": "",
     "evalue": "",
     "output_type": "error",
     "traceback": [
      "\u001b[1;31mRunning cells with '/bin/python3' requires the ipykernel package.\n",
      "\u001b[1;31mRun the following command to install 'ipykernel' into the Python environment. \n",
      "\u001b[1;31mCommand: '/bin/python3 -m pip install ipykernel -U --user --force-reinstall'"
     ]
    }
   ],
   "source": [
    "alpha = 1#0.6 #1 #1/np.sqrt(2) #0.6  \n",
    "beta = 0#0.8 #0 #1/np.sqrt(2) #0.8   \n",
    "gamma = 1#1/np.sqrt(2) #np.sqrt(2)/np.sqrt(3)\n",
    "delta = 0#1/np.sqrt(2) #1/np.sqrt(3)\n",
    "\n",
    "circuit = initialize_swap(alpha, beta, gamma, delta)\n",
    "\n",
    "circuit.draw(output='mpl')\n",
    "# simulator = Aer.get_backend('qasm_simulator')\n",
    "# result = execute(circuit, backend=simulator).result()\n",
    "# from qiskit.tools.visualization import plot_histogram\n",
    "# plot_histogram(result.get_counts(circuit))"
   ]
  },
  {
   "cell_type": "code",
   "execution_count": null,
   "metadata": {},
   "outputs": [
    {
     "ename": "",
     "evalue": "",
     "output_type": "error",
     "traceback": [
      "\u001b[1;31mRunning cells with '/bin/python3' requires the ipykernel package.\n",
      "\u001b[1;31mRun the following command to install 'ipykernel' into the Python environment. \n",
      "\u001b[1;31mCommand: '/bin/python3 -m pip install ipykernel -U --user --force-reinstall'"
     ]
    }
   ],
   "source": [
    "d00 = {'000000': (0.25000000000000006+0j), '000001': (0.25000000000000006+0j), '001010': (0.25000000000000006+0j), '001011': (0.25+0j), '010000': (0.25000000000000006+0j), '010001': (0.25+0j), '011010': (0.25+0j), '011011': (0.24999999999999994+0j), '100100': (0.25-3.061616997868383e-17j), '100101': (0.24999999999999994-3.0616169978683824e-17j), '101110': (0.24999999999999994-3.0616169978683824e-17j), '101111': (0.24999999999999992-3.061616997868382e-17j), '110100': (-0.25000000000000006+3.0616169978683836e-17j), '110101': (-0.25+3.061616997868383e-17j), '111110': (-0.25+3.061616997868383e-17j), '111111': (-0.24999999999999994+3.0616169978683824e-17j)}\n",
    "\n",
    "d01 = {'000100': (0.25-3.061616997868383e-17j), '000101': (0.24999999999999994-3.0616169978683824e-17j), '001110': (0.24999999999999994-3.0616169978683824e-17j), '001111': (0.24999999999999992-3.061616997868382e-17j), '010100': (-0.25000000000000006+3.0616169978683836e-17j), '010101': (-0.25+3.061616997868383e-17j), '011110': (-0.25+3.061616997868383e-17j), '011111': (-0.24999999999999994+3.0616169978683824e-17j), '100000': (0.25000000000000006+0j), '100001': (0.25000000000000006+0j), '101010': (0.25000000000000006+0j), '101011': (0.25+0j), '110000': (0.25000000000000006+0j), '110001': (0.25+0j), '111010': (0.25+0j), '111011': (0.24999999999999994+0j)}\n",
    "\n",
    "d10 = {'000010': (0.25000000000000006-3.0616169978683836e-17j), '000011': (-0.25000000000000006+3.061616997868384e-17j), '001000': (0.25-3.061616997868383e-17j), '001001': (-0.25000000000000006+3.0616169978683836e-17j), '010010': (0.25-3.061616997868383e-17j), '010011': (-0.25000000000000006+3.061616997868384e-17j), '011000': (0.24999999999999994-3.0616169978683824e-17j), '011001': (-0.25+3.061616997868383e-17j), '100110': (0.24999999999999994-6.123233995736765e-17j), '100111': (-0.25+6.123233995736766e-17j), '101100': (0.24999999999999992-6.123233995736762e-17j), '101101': (-0.24999999999999994+6.123233995736765e-17j), '110110': (-0.25+6.123233995736766e-17j), '110111': (0.25000000000000006-6.123233995736767e-17j), '111100': (-0.24999999999999994+6.123233995736765e-17j), '111101': (0.25-6.123233995736766e-17j)}\n",
    "\n",
    "d11 = {'000110': (0.24999999999999994-6.123233995736765e-17j), '000111': (-0.25+6.123233995736766e-17j), '001100': (0.24999999999999992-6.123233995736762e-17j), '001101': (-0.24999999999999994+6.123233995736765e-17j), '010110': (-0.25+6.123233995736766e-17j), '010111': (0.25000000000000006-6.123233995736767e-17j), '011100': (-0.24999999999999994+6.123233995736765e-17j), '011101': (0.25-6.123233995736766e-17j), '100010': (0.25000000000000006-3.0616169978683836e-17j), '100011': (-0.25000000000000006+3.061616997868384e-17j), '101000': (0.25-3.061616997868383e-17j), '101001': (-0.25000000000000006+3.0616169978683836e-17j), '110010': (0.25-3.061616997868383e-17j), '110011': (-0.25000000000000006+3.061616997868384e-17j), '111000': (0.24999999999999994-3.0616169978683824e-17j), '111001': (-0.25+3.061616997868383e-17j)}\n",
    "\n",
    "\n",
    "def d_print(d):\n",
    "    print(len(d.keys()), sorted(d.keys()))\n",
    "\n",
    "def similar(d1, d2):\n",
    "    for key in sorted(d1.keys()):\n",
    "        if key in sorted(d2.keys()):\n",
    "            print(\"in\")\n",
    "\n",
    "ds = [d00, d01, d10, d11]\n",
    "\n",
    "for d1 in ds:\n",
    "    for d2 in ds:\n",
    "        if d1 != d2:\n",
    "            similar(d1,d2)\n",
    "\n",
    "d_print(d00)\n",
    "d_print(d01)\n",
    "d_print(d10)\n",
    "d_print(d11)\n",
    "\n",
    "daplhabeta = {'000000': (0.10606601717798216+0j), '000001': (0.10606601717798213+0j), '000010': (0.14142135623730953-1.7319121124709868e-17j), '000011': (-0.14142135623730953+1.7319121124709874e-17j), '000100': (0.10606601717798211-1.2989340843532397e-17j), '000101': (0.1060660171779821-1.2989340843532395e-17j), '000110': (0.14142135623730948-3.463824224941972e-17j), '000111': (-0.1414213562373095+3.463824224941973e-17j), '001000': (0.1414213562373095-1.7319121124709864e-17j), '001001': (-0.14142135623730953+1.731912112470987e-17j), '001010': (0.10606601717798213+0j), '001011': (0.10606601717798211+0j), '001100': (0.14142135623730945-3.4638242249419717e-17j), '001101': (-0.14142135623730948+3.463824224941973e-17j), '001110': (0.1060660171779821-1.2989340843532395e-17j), '001111': (0.10606601717798207-1.2989340843532392e-17j), '010000': (0.10606601717798214+0j), '010001': (0.10606601717798211+0j), '010010': (0.1414213562373095-1.7319121124709864e-17j), '010011': (-0.14142135623730953+1.731912112470987e-17j), '010100': (-0.10606601717798213+1.29893408435324e-17j), '010101': (-0.10606601717798211+1.2989340843532398e-17j), '010110': (-0.1414213562373095+3.463824224941973e-17j), '010111': (0.14142135623730953-3.463824224941974e-17j), '011000': (0.14142135623730948-1.731912112470986e-17j), '011001': (-0.1414213562373095+1.7319121124709868e-17j), '011010': (0.10606601717798211+0j), '011011': (0.1060660171779821+0j), '011100': (-0.14142135623730948+3.463824224941972e-17j), '011101': (0.1414213562373095-3.463824224941973e-17j), '011110': (-0.10606601717798211+1.2989340843532398e-17j), '011111': (-0.10606601717798209+1.2989340843532395e-17j), '100000': (0.10606601717798216+0j), '100001': (0.10606601717798213+0j), '100010': (0.14142135623730953-1.7319121124709868e-17j), '100011': (-0.14142135623730953+1.7319121124709874e-17j), '100100': (0.10606601717798211-1.2989340843532397e-17j), '100101': (0.1060660171779821-1.2989340843532395e-17j), '100110': (0.14142135623730948-3.463824224941972e-17j), '100111': (-0.1414213562373095+3.463824224941973e-17j), '101000': (0.1414213562373095-1.7319121124709864e-17j), '101001': (-0.14142135623730953+1.731912112470987e-17j), '101010': (0.10606601717798213+0j), '101011': (0.10606601717798211+0j), '101100': (0.14142135623730945-3.4638242249419717e-17j), '101101': (-0.14142135623730948+3.463824224941973e-17j), '101110': (0.1060660171779821-1.2989340843532395e-17j), '101111': (0.10606601717798207-1.2989340843532392e-17j), '110000': (0.10606601717798214+0j), '110001': (0.10606601717798211+0j), '110010': (0.1414213562373095-1.7319121124709864e-17j), '110011': (-0.14142135623730953+1.731912112470987e-17j), '110100': (-0.10606601717798213+1.29893408435324e-17j), '110101': (-0.10606601717798211+1.2989340843532398e-17j), '110110': (-0.1414213562373095+3.463824224941973e-17j), '110111': (0.14142135623730953-3.463824224941974e-17j), '111000': (0.14142135623730948-1.731912112470986e-17j), '111001': (-0.1414213562373095+1.7319121124709868e-17j), '111010': (0.10606601717798211+0j), '111011': (0.1060660171779821+0j), '111100': (-0.14142135623730948+3.463824224941972e-17j), '111101': (0.1414213562373095-3.463824224941973e-17j), '111110': (-0.10606601717798211+1.2989340843532398e-17j), '111111': (-0.10606601717798209+1.2989340843532395e-17j)}\n",
    "\n",
    "print(\"Number of possible states for an non trivial alpha and beta:\",len(daplhabeta))"
   ]
  },
  {
   "cell_type": "code",
   "execution_count": null,
   "metadata": {},
   "outputs": [
    {
     "ename": "",
     "evalue": "",
     "output_type": "error",
     "traceback": [
      "\u001b[1;31mRunning cells with '/bin/python3' requires the ipykernel package.\n",
      "\u001b[1;31mRun the following command to install 'ipykernel' into the Python environment. \n",
      "\u001b[1;31mCommand: '/bin/python3 -m pip install ipykernel -U --user --force-reinstall'"
     ]
    }
   ],
   "source": [
    "def swap_analysis(d, str):\n",
    "    print(str)\n",
    "    newd = {}\n",
    "    for key in d:\n",
    "        s = \"\"\n",
    "        s += key[0] + key[1] + key[4] + key[5]\n",
    "        value = \"\"\n",
    "        value += key[2] + key[3]\n",
    "        newd[s] = value\n",
    "\n",
    "    i = 1\n",
    "    for key in newd:\n",
    "        print(key, \"->\", newd[key], \"|\" , end=\" \" )\n",
    "        if i%4 == 0:\n",
    "            print()\n",
    "        i += 1\n",
    "    print()\n",
    "    \n",
    "\n",
    "swap_analysis(d00, \"d00: \\n\")\n",
    "swap_analysis(d01, \"d01: \\n\")\n",
    "swap_analysis(d10, \"d10: \\n\")\n",
    "swap_analysis(d11, \"d11: \\n\")"
   ]
  },
  {
   "cell_type": "code",
   "execution_count": null,
   "metadata": {},
   "outputs": [
    {
     "ename": "",
     "evalue": "",
     "output_type": "error",
     "traceback": [
      "\u001b[1;31mRunning cells with '/bin/python3' requires the ipykernel package.\n",
      "\u001b[1;31mRun the following command to install 'ipykernel' into the Python environment. \n",
      "\u001b[1;31mCommand: '/bin/python3 -m pip install ipykernel -U --user --force-reinstall'"
     ]
    }
   ],
   "source": []
  }
 ],
 "metadata": {
  "kernelspec": {
   "display_name": "Python 3",
   "language": "python",
   "name": "python3"
  },
  "language_info": {
   "codemirror_mode": {
    "name": "ipython",
    "version": 3
   },
   "file_extension": ".py",
   "mimetype": "text/x-python",
   "name": "python",
   "nbconvert_exporter": "python",
   "pygments_lexer": "ipython3",
   "version": "3.10.12"
  }
 },
 "nbformat": 4,
 "nbformat_minor": 2
}
