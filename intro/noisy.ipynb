{
 "cells": [
  {
   "cell_type": "code",
   "execution_count": 54,
   "metadata": {},
   "outputs": [],
   "source": [
    "from qiskit import QuantumCircuit\n",
    "import qiskit.quantum_info as qi\n",
    "from qiskit.providers.aer import AerSimulator\n",
    "from qiskit.providers.aer.noise import NoiseModel, mixed_unitary_error\n",
    "\n"
   ]
  },
  {
   "cell_type": "code",
   "execution_count": 55,
   "metadata": {},
   "outputs": [
    {
     "data": {
      "text/latex": [
       "$$\n",
       "\n",
       "\\begin{bmatrix}\n",
       "\\frac{1}{2} & \\frac{1}{20} - \\frac{7 i}{20}  \\\\\n",
       " \\frac{1}{20} + \\frac{7 i}{20} & \\frac{1}{2}  \\\\\n",
       " \\end{bmatrix}\n",
       "$$"
      ],
      "text/plain": [
       "<IPython.core.display.Latex object>"
      ]
     },
     "execution_count": 55,
     "metadata": {},
     "output_type": "execute_result"
    }
   ],
   "source": [
    "l = qi.DensityMatrix.from_label(\"l\")\n",
    "r = qi.DensityMatrix.from_label(\"r\")\n",
    "p = qi.DensityMatrix.from_label(\"+\")\n",
    "\n",
    "ro = 0.8*r + 0.1*l + 0.1*p\n",
    "ro.draw(\"latex\")"
   ]
  },
  {
   "cell_type": "code",
   "execution_count": 56,
   "metadata": {},
   "outputs": [
    {
     "name": "stdout",
     "output_type": "stream",
     "text": [
      "QuantumError on 1 qubits. Noise circuits:\n",
      "  P(0) = 0.8, Circuit = \n",
      "   ┌─────────┐\n",
      "q: ┤ Unitary ├\n",
      "   └─────────┘\n",
      "  P(1) = 0.1, Circuit = \n",
      "   ┌─────────┐\n",
      "q: ┤ Unitary ├\n",
      "   └─────────┘\n",
      "  P(2) = 0.1, Circuit = \n",
      "   ┌───┐\n",
      "q: ┤ I ├\n",
      "   └───┘\n"
     ]
    }
   ],
   "source": [
    "S = qi.Operator.from_label(\"S\")\n",
    "Sdg = S.adjoint()\n",
    "I = qi.Operator.from_label(\"I\")\n",
    "\n",
    "pS = 0.8\n",
    "pSdg = 0.1\n",
    "pI = 0.1\n",
    "\n",
    "S_noisy = mixed_unitary_error([(S,pS), (Sdg,pSdg), (I,pI)])\n",
    "print(S_noisy)"
   ]
  },
  {
   "cell_type": "code",
   "execution_count": 57,
   "metadata": {},
   "outputs": [
    {
     "name": "stdout",
     "output_type": "stream",
     "text": [
      "NoiseModel:\n",
      "  Basis gates: ['cx', 'id', 'rz', 'sx']\n",
      "  Instructions with noise: ['id']\n",
      "  Qubits with noise: [0]\n",
      "  Specific qubit errors: [('id', (0,))]\n"
     ]
    }
   ],
   "source": [
    "noise_m = NoiseModel()\n",
    "noise_m.add_quantum_error(S_noisy,[\"id\"],[0])\n",
    "print(noise_m)"
   ]
  },
  {
   "cell_type": "code",
   "execution_count": 58,
   "metadata": {},
   "outputs": [
    {
     "data": {
      "text/html": [
       "<pre style=\"word-wrap: normal;white-space: pre;background: #fff0;line-height: 1.1;font-family: &quot;Courier New&quot;,Courier,monospace\">   ┌───┐┌───┐ density_matrix \n",
       "q: ┤ H ├┤ I ├───────░────────\n",
       "   └───┘└───┘       ░        </pre>"
      ],
      "text/plain": [
       "   ┌───┐┌───┐ density_matrix \n",
       "q: ┤ H ├┤ I ├───────░────────\n",
       "   └───┘└───┘       ░        "
      ]
     },
     "execution_count": 58,
     "metadata": {},
     "output_type": "execute_result"
    }
   ],
   "source": [
    "qc = QuantumCircuit(1)\n",
    "qc.h(0)\n",
    "qc.id(0)\n",
    "qc.save_density_matrix()\n",
    "qc.draw()"
   ]
  },
  {
   "cell_type": "code",
   "execution_count": 59,
   "metadata": {},
   "outputs": [
    {
     "data": {
      "text/latex": [
       "$$\n",
       "\n",
       "\\begin{bmatrix}\n",
       "\\frac{1}{2} & \\frac{1}{20} - \\frac{7 i}{20}  \\\\\n",
       " \\frac{1}{20} + \\frac{7 i}{20} & \\frac{1}{2}  \\\\\n",
       " \\end{bmatrix}\n",
       "$$"
      ],
      "text/plain": [
       "<IPython.core.display.Latex object>"
      ]
     },
     "execution_count": 59,
     "metadata": {},
     "output_type": "execute_result"
    }
   ],
   "source": [
    "sim_density = AerSimulator(noise_model=noise_m)\n",
    "job = sim_density.run(qc)\n",
    "result = job.result().data()\n",
    "Qs = result.get(\"density_matrix\")\n",
    "Qs.draw(\"latex\")"
   ]
  },
  {
   "cell_type": "code",
   "execution_count": null,
   "metadata": {},
   "outputs": [],
   "source": []
  }
 ],
 "metadata": {
  "kernelspec": {
   "display_name": "Python 3",
   "language": "python",
   "name": "python3"
  },
  "language_info": {
   "codemirror_mode": {
    "name": "ipython",
    "version": 3
   },
   "file_extension": ".py",
   "mimetype": "text/x-python",
   "name": "python",
   "nbconvert_exporter": "python",
   "pygments_lexer": "ipython3",
   "version": "3.10.12"
  },
  "orig_nbformat": 4
 },
 "nbformat": 4,
 "nbformat_minor": 2
}
