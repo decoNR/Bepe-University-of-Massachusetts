{
 "cells": [
  {
   "cell_type": "code",
   "execution_count": 78,
   "metadata": {},
   "outputs": [],
   "source": [
    "from qiskit import *\n",
    "import numpy as np"
   ]
  },
  {
   "cell_type": "code",
   "execution_count": 79,
   "metadata": {},
   "outputs": [],
   "source": [
    "def state_print(circuit):\n",
    "    simulator = Aer.get_backend('statevector_simulator')\n",
    "    result = execute(circuit , simulator).result()\n",
    "    statevector = result.get_statevector()\n",
    "    print(statevector.to_dict())\n",
    "    print(\"\\n\")"
   ]
  },
  {
   "cell_type": "code",
   "execution_count": 80,
   "metadata": {},
   "outputs": [],
   "source": [
    "def initialize(qr, cr):\n",
    "    circuit = QuantumCircuit(qr,cr)\n",
    "    return circuit"
   ]
  },
  {
   "cell_type": "code",
   "execution_count": 81,
   "metadata": {},
   "outputs": [],
   "source": [
    "import numpy as np\n",
    "\n",
    "def psi_phi(circuit, psi, alpha, beta, phi=-1, gamma=1, delta=0):\n",
    "    circuit.initialize([alpha, beta], psi)\n",
    "    if phi != -1:\n",
    "        circuit.initialize([gamma, delta], phi)\n"
   ]
  },
  {
   "cell_type": "code",
   "execution_count": 82,
   "metadata": {},
   "outputs": [],
   "source": [
    "def make_circuit(circuit):\n",
    "    circuit.h(1)\n",
    "    circuit.cx(1,0)\n",
    "\n",
    "    circuit.measure(0,0)"
   ]
  },
  {
   "cell_type": "code",
   "execution_count": 83,
   "metadata": {},
   "outputs": [],
   "source": [
    "from qiskit.tools.visualization import plot_histogram\n",
    "\n",
    "def histogram(circuit):\n",
    "    simulator = Aer.get_backend('qasm_simulator')\n",
    "    result = execute(circuit, backend=simulator).result()\n",
    "    plot_histogram(result.get_counts(circuit))"
   ]
  },
  {
   "cell_type": "code",
   "execution_count": 84,
   "metadata": {},
   "outputs": [
    {
     "data": {
      "image/png": "[encoded data removed]",
      "text/plain": [
       "<Figure size 370.906x284.278 with 1 Axes>"
      ]
     },
     "execution_count": 84,
     "metadata": {},
     "output_type": "execute_result"
    }
   ],
   "source": [
    "circuit = initialize(2,2)\n",
    "psi_phi(circuit, 0, 0.8, 0.6)\n",
    "make_circuit(circuit)\n",
    "\n",
    "histogram(circuit)\n",
    "\n",
    "circuit.draw(output=\"mpl\")"
   ]
  }
 ],
 "metadata": {
  "kernelspec": {
   "display_name": "Python 3",
   "language": "python",
   "name": "python3"
  },
  "language_info": {
   "codemirror_mode": {
    "name": "ipython",
    "version": 3
   },
   "file_extension": ".py",
   "mimetype": "text/x-python",
   "name": "python",
   "nbconvert_exporter": "python",
   "pygments_lexer": "ipython3",
   "version": "3.10.12"
  }
 },
 "nbformat": 4,
 "nbformat_minor": 2
}
